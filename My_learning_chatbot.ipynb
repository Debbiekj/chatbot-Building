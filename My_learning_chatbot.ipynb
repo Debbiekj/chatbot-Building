{
  "cells": [
    {
      "cell_type": "markdown",
      "metadata": {
        "id": "view-in-github",
        "colab_type": "text"
      },
      "source": [
        "<a href=\"https://colab.research.google.com/github/Debbiekj/chatbot-Building/blob/main/My_learning_chatbot.ipynb\" target=\"_parent\"><img src=\"https://colab.research.google.com/assets/colab-badge.svg\" alt=\"Open In Colab\"/></a>"
      ]
    },
    {
      "cell_type": "code",
      "execution_count": null,
      "metadata": {
        "id": "jGtAR2Uc11h7"
      },
      "outputs": [],
      "source": [
        "import numpy as np\n",
        "import nltk\n",
        "import string\n",
        "import random"
      ]
    },
    {
      "cell_type": "code",
      "execution_count": null,
      "metadata": {
        "colab": {
          "base_uri": "https://localhost:8080/"
        },
        "id": "adnaAJf42Y20",
        "outputId": "634ac32f-e8b8-4fef-e38e-20322bea066c"
      },
      "outputs": [
        {
          "name": "stderr",
          "output_type": "stream",
          "text": [
            "[nltk_data] Downloading package punkt to /root/nltk_data...\n",
            "[nltk_data]   Package punkt is already up-to-date!\n",
            "[nltk_data] Downloading package wordnet to /root/nltk_data...\n",
            "[nltk_data]   Package wordnet is already up-to-date!\n"
          ]
        }
      ],
      "source": [
        "f=open(\"chatbot.txt\", \"r\", errors= \"ignore\")\n",
        "raw_doc=f.read() #convert text to lowercase\n",
        "nltk.download(\"punkt\") #Using the Punkt tokenizer\n",
        "nltk.download(\"wordnet\") #Using the WordNet tokenizer\n",
        "sent_tokens = nltk.sent_tokenize(raw_doc) #Converts doc to list of sentences\n",
        "word_tokens = nltk.word_tokenize(raw_doc) #Converts doc to list of words\n",
        "\n",
        "\n"
      ]
    },
    {
      "cell_type": "code",
      "execution_count": null,
      "metadata": {
        "colab": {
          "base_uri": "https://localhost:8080/"
        },
        "id": "Gc3TnZa1607J",
        "outputId": "c8780d55-8f9b-4997-b09f-c56f5589af0a"
      },
      "outputs": [
        {
          "data": {
            "text/plain": [
              "['Machine learning\\nFrom Wikipedia, the free encyclopedia\\nJump to navigationJump to search\\nFor the journal, see Machine Learning (journal).',\n",
              " '\"Statistical learning\" redirects here.']"
            ]
          },
          "execution_count": 3,
          "metadata": {},
          "output_type": "execute_result"
        }
      ],
      "source": [
        "#sentence tokens\n",
        "sent_tokens[:2]"
      ]
    },
    {
      "cell_type": "code",
      "execution_count": null,
      "metadata": {
        "colab": {
          "base_uri": "https://localhost:8080/"
        },
        "id": "j3tOf_N96-lq",
        "outputId": "7f693e93-40bd-4e3e-82a4-47dc5fb81889"
      },
      "outputs": [
        {
          "data": {
            "text/plain": [
              "['Machine', 'learning']"
            ]
          },
          "execution_count": 4,
          "metadata": {},
          "output_type": "execute_result"
        }
      ],
      "source": [
        "#word tokens\n",
        "word_tokens[:2]"
      ]
    },
    {
      "cell_type": "code",
      "execution_count": null,
      "metadata": {
        "id": "DbB54oP-7ru8"
      },
      "outputs": [],
      "source": [
        ""
      ]
    },
    {
      "cell_type": "markdown",
      "metadata": {
        "id": "VnHOdNEb7xV4"
      },
      "source": [
        "#Text Preprocessing\n"
      ]
    },
    {
      "cell_type": "code",
      "execution_count": null,
      "metadata": {
        "id": "YFy3y43675Hi"
      },
      "outputs": [],
      "source": [
        "lemmer = nltk.stem.WordNetLemmatizer()\n",
        "#WordNet is a semantically-oriented dictionary of English included in NLTK\n",
        "def LemTokens(tokens):\n",
        "  return [lemmer.lemmatize(token) for token in tokens]\n",
        "remove_punct_dict = dict((ord(punct), None)  for punct in string.punctuation)\n",
        "def LemNormalize(text):\n",
        "   return LemTokens(nltk.word_tokenize(text.lower().translate(remove_puct_dict))) "
      ]
    },
    {
      "cell_type": "code",
      "execution_count": null,
      "metadata": {
        "id": "71g4LF8E-1Lk"
      },
      "outputs": [],
      "source": [
        "#Defining greetings\n",
        "GREET_INPUTS = (\"hello\", \"hi\", \"greeting\", \"sup\", \"what's up\", \"hey\")\n",
        "GREET_RESPONSES = [\"hi\", \"hey\", \"*nods*\", \"hi there\", \"I hope you are doing good\", \"How can I help you?\" \"hello\", \"I am glad! You are talking to me\"]\n",
        "def greet(sentence):\n",
        "  for word in sentence.split():\n",
        "    if word.lower() in GREET_INPUTS:\n",
        "      return random.choice(GREET_RESPONSES)"
      ]
    },
    {
      "cell_type": "code",
      "execution_count": null,
      "metadata": {
        "id": "cvQMNXA1GR--"
      },
      "outputs": [],
      "source": [
        "#Greet responses\n",
        "from sklearn.feature_extraction.text import TfidfVectorizer\n",
        "from sklearn.metrics.pairwise import cosine_similarity"
      ]
    },
    {
      "cell_type": "code",
      "execution_count": null,
      "metadata": {
        "id": "hOC4X2yaIZeT"
      },
      "outputs": [],
      "source": [
        "def response(user_response):\n",
        "  robol_response=\"\"\n",
        "  TfidfVectorizer = TfidfVectorizer(tokenizer=LemNormalize, stop_words=\"english\")\n",
        "  tfidf = TfidfVec.fit_transform(sent_tokens)\n",
        "  vals = cosine_similarity(tfidf[-1], tfidf)\n",
        "  idx=vals.argsort()[0][-2]\n",
        "  flat = vals.flatten()\n",
        "  flat.sort()\n",
        "  req_tfidf = flat[-2]\n",
        "  if(reg_tfid==0):\n",
        "    robo1_response=robo1_response+\"I'm sorry! I don't understand you\"\n",
        "    return robol1_response\n",
        "  else:\n",
        "     robo1_response = robo1_response+tokens[idx]\n",
        "     return robo1_response "
      ]
    },
    {
      "cell_type": "code",
      "execution_count": null,
      "metadata": {
        "colab": {
          "background_save": true,
          "base_uri": "https://localhost:8080/"
        },
        "id": "GSCoIKtSPGIc",
        "outputId": "bca9dc90-6df5-42eb-b0b3-69500640a740"
      },
      "outputs": [
        {
          "name": "stdout",
          "output_type": "stream",
          "text": [
            "BOT: My name is Savior.Let's have a conversation! Also, if you want to exit ant time, just type Bye!\n",
            "Savior: I hope you are doing good?\n",
            "Savior: I hope you are doing good?\n"
          ]
        }
      ],
      "source": [
        "flag=True\n",
        "print(\"Savior: My name is Savior.Let's have a conversation! Also, if you want to exit ant time, just type Bye!\")\n",
        "while(flag==True):\n",
        "  user_response = input()\n",
        "  user_response = user_response.lower()\n",
        "  if(user_response!=\"bye\"):\n",
        "    if(user_response=='thanks' or user_response=='thank you'):\n",
        "      flag=False\n",
        "      print(\"Savior: You are welcome..\")\n",
        "    else:\n",
        "        if(greet(user_response)!=None):\n",
        "          print(\"Savior: \"+greet(user_response))\n",
        "        else:\n",
        "          sent_tokens.append(user_response)\n",
        "          word_tokens=word_tokens+nltk.wordpunct_tokenize(user_response)\n",
        "          final_words = list(set(word_tokens))\n",
        "          print(\"Savior: \" ,end=\"\")\n",
        "          print(response(user_response))\n",
        "          sent_tokens.remove(user_response)\n",
        "    \n",
        "  else:\n",
        "      flag = False\n",
        "      print(\"Savior: Goodbye! Take care <3\")\n",
        "\n",
        "\n",
        "\n",
        "\n"
      ]
    }
  ],
  "metadata": {
    "colab": {
      "collapsed_sections": [],
      "name": "My learning chatbot.ipynb",
      "provenance": [],
      "authorship_tag": "ABX9TyO9ly2fDvkLrib1CbU+TU+n",
      "include_colab_link": true
    },
    "kernelspec": {
      "display_name": "Python 3",
      "name": "python3"
    },
    "language_info": {
      "name": "python"
    }
  },
  "nbformat": 4,
  "nbformat_minor": 0
}